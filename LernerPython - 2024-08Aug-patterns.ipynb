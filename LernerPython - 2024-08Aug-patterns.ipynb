{
 "cells": [
  {
   "cell_type": "markdown",
   "metadata": {},
   "source": [
    "# Agenda\n",
    "\n",
    "1. What are design patterns, and who cares about them?\n",
    "2. A quick refresher on the important parts of Python objects\n",
    "3. Design patterns themselves\n",
    "    - Behavioral patterns (has to do with the object's behavior)\n",
    "    - Structural patterns (have to do with how objects interact with other objects)\n",
    "    - Creational patterns (have to do with how objects are created)"
   ]
  },
  {
   "cell_type": "markdown",
   "metadata": {},
   "source": [
    "# What are design patterns?\n",
    "\n",
    "Object-oriented programming has been around for many decades. In Python, everything is an object. This means that a lot of our time writing code is spent writing classes, methods, and working with attributes.\n",
    "\n",
    "The big problem that design patterns are trying to solve is: How do multiple objects in a system interact? Design patterns are all about how these interactions are structured. Design patterns give us a language that allows us to describe these different ways of interacting, and judge (and discuss) which way we can/should go in our software engineering."
   ]
  },
  {
   "cell_type": "markdown",
   "metadata": {},
   "source": [
    "# Objects in Python\n",
    "\n",
    "\"Everything is an object.\" What does that mean? It means that virtually everything we use in Python -- data, functions, classes -- is an object, which means that it follows the same rules as all other objects.  Once you learn the rules for objects in Python, you'll understand not only how your classes work, but also how other people's classes work, and how the builtin classes work, too.\n",
    "\n",
    "Every object in Python has three qualities:\n",
    "\n",
    "- An ID number, which you can get by calling `id` on it\n",
    "- A class, or type, which you can get by calling `type` on the object\n",
    "- One or more *attributes*, which are names that come after a `.`\n",
    "    - You can get the list of attributes with the `dir` builtin function\n",
    "    - Each attribute can contain either data or a function\n",
    " \n"
   ]
  },
  {
   "cell_type": "code",
   "execution_count": 1,
   "metadata": {},
   "outputs": [
    {
     "data": {
      "text/plain": [
       "4518333296"
      ]
     },
     "execution_count": 1,
     "metadata": {},
     "output_type": "execute_result"
    }
   ],
   "source": [
    "s = 'abcd'\n",
    "id(s)"
   ]
  },
  {
   "cell_type": "code",
   "execution_count": 2,
   "metadata": {},
   "outputs": [
    {
     "data": {
      "text/plain": [
       "['__add__',\n",
       " '__class__',\n",
       " '__contains__',\n",
       " '__delattr__',\n",
       " '__dir__',\n",
       " '__doc__',\n",
       " '__eq__',\n",
       " '__format__',\n",
       " '__ge__',\n",
       " '__getattribute__',\n",
       " '__getitem__',\n",
       " '__getnewargs__',\n",
       " '__getstate__',\n",
       " '__gt__',\n",
       " '__hash__',\n",
       " '__init__',\n",
       " '__init_subclass__',\n",
       " '__iter__',\n",
       " '__le__',\n",
       " '__len__',\n",
       " '__lt__',\n",
       " '__mod__',\n",
       " '__mul__',\n",
       " '__ne__',\n",
       " '__new__',\n",
       " '__reduce__',\n",
       " '__reduce_ex__',\n",
       " '__repr__',\n",
       " '__rmod__',\n",
       " '__rmul__',\n",
       " '__setattr__',\n",
       " '__sizeof__',\n",
       " '__str__',\n",
       " '__subclasshook__',\n",
       " 'capitalize',\n",
       " 'casefold',\n",
       " 'center',\n",
       " 'count',\n",
       " 'encode',\n",
       " 'endswith',\n",
       " 'expandtabs',\n",
       " 'find',\n",
       " 'format',\n",
       " 'format_map',\n",
       " 'index',\n",
       " 'isalnum',\n",
       " 'isalpha',\n",
       " 'isascii',\n",
       " 'isdecimal',\n",
       " 'isdigit',\n",
       " 'isidentifier',\n",
       " 'islower',\n",
       " 'isnumeric',\n",
       " 'isprintable',\n",
       " 'isspace',\n",
       " 'istitle',\n",
       " 'isupper',\n",
       " 'join',\n",
       " 'ljust',\n",
       " 'lower',\n",
       " 'lstrip',\n",
       " 'maketrans',\n",
       " 'partition',\n",
       " 'removeprefix',\n",
       " 'removesuffix',\n",
       " 'replace',\n",
       " 'rfind',\n",
       " 'rindex',\n",
       " 'rjust',\n",
       " 'rpartition',\n",
       " 'rsplit',\n",
       " 'rstrip',\n",
       " 'split',\n",
       " 'splitlines',\n",
       " 'startswith',\n",
       " 'strip',\n",
       " 'swapcase',\n",
       " 'title',\n",
       " 'translate',\n",
       " 'upper',\n",
       " 'zfill']"
      ]
     },
     "execution_count": 2,
     "metadata": {},
     "output_type": "execute_result"
    }
   ],
   "source": [
    "dir(s)   # give me all of the attributes for s"
   ]
  },
  {
   "cell_type": "code",
   "execution_count": 4,
   "metadata": {},
   "outputs": [
    {
     "data": {
      "text/plain": [
       "'ABCD'"
      ]
     },
     "execution_count": 4,
     "metadata": {},
     "output_type": "execute_result"
    }
   ],
   "source": [
    "s.upper()  # Python turns to s, and asks: Do you have an attribute upper? No.  Python turns to s's class, str, and asks. \n",
    "           # str *does* have an attribute \"upper\". We retrieve it, and then invoke it with ()"
   ]
  },
  {
   "cell_type": "code",
   "execution_count": 6,
   "metadata": {},
   "outputs": [
    {
     "data": {
      "text/plain": [
       "'ABCD'"
      ]
     },
     "execution_count": 6,
     "metadata": {},
     "output_type": "execute_result"
    }
   ],
   "source": [
    "# there's another way to invoke our method -- directly on the class\n",
    "str.upper(s)  # Python asks: does str have an attribute upper? Yes. We get that method, and pass it s, and invoke it"
   ]
  },
  {
   "cell_type": "code",
   "execution_count": 7,
   "metadata": {},
   "outputs": [
    {
     "name": "stdout",
     "output_type": "stream",
     "text": [
      "Hello, name1\n",
      "Hello, name2\n"
     ]
    }
   ],
   "source": [
    "# let's define a class!\n",
    "\n",
    "class Person:\n",
    "    def __init__(self, name):\n",
    "        self.name = name\n",
    "\n",
    "    def greet(self):\n",
    "        return f'Hello, {self.name}'\n",
    "\n",
    "p1 = Person('name1')\n",
    "p2 = Person('name2')\n",
    "\n",
    "print(p1.greet())  # Python asks p1: Do you have an attribute greet? No, so we check on Person. It has greet, which we retrieve and invoke.\n",
    "print(p2.greet())  # ditto"
   ]
  },
  {
   "cell_type": "markdown",
   "metadata": {},
   "source": [
    "# What's happening here?\n",
    "\n",
    "I defined a new class, a new data type in Python -- alongside `str`, `list`, `tuple`. I can create a new instance of `Person` by invoking it with `()`, and passing an argument -- a string, which will be the person's name.\n",
    "\n",
    "When we invoke `Person`, many people believe that `__init__` is invoked, because `__init__` is the constructor method, creating a new instance of `Person`.\n",
    "\n",
    "This is **WRONG**.\n",
    "\n",
    "- When you invoke `Person`, you actually end up invoking `__new__`, a method that you should never redefine. This is the actual constructor, which creates a new object.\n",
    "- `__new__`, in turn, invokes `__init__`, whose job is to assign new attributes to the new object.\n",
    "\n",
    "How does `__new__` pass the new object to `__init__`? As an argument to the method, which `__init__` receives as `self`.\n",
    "\n",
    "`__init__` doesn't need to return anything, because the assumption is that you're just going to assign attributes there.\n",
    "\n"
   ]
  },
  {
   "cell_type": "markdown",
   "metadata": {},
   "source": [
    "# Object relationships\n",
    "\n",
    "In the object-oriented programming world, we have (generally speaking) two relationships:\n",
    "\n",
    "- `is-a` -- one class *inherits* from the other; this is inheritance. If I have an `Employee` class that inherits from `Person`, we could say that `Employee` is-a `Person`. This means that anything a `Person` can do, an `Employee` can do, too. The point of inheritance is to encourage reuse of existing classes, and only write completely new ones if you're doing something totally new and different.\n",
    "- `has-a` -- one object belongs to another. This is a perfect description of an attribute! When we set attributes in `__init__`, we are taking advantage of this relationship, known more formally as \"composition.\" This doesn't get enough attention in the programming world; composition of objects is something we do all the time."
   ]
  },
  {
   "cell_type": "code",
   "execution_count": null,
   "metadata": {},
   "outputs": [],
   "source": []
  }
 ],
 "metadata": {
  "kernelspec": {
   "display_name": "Python 3 (ipykernel)",
   "language": "python",
   "name": "python3"
  },
  "language_info": {
   "codemirror_mode": {
    "name": "ipython",
    "version": 3
   },
   "file_extension": ".py",
   "mimetype": "text/x-python",
   "name": "python",
   "nbconvert_exporter": "python",
   "pygments_lexer": "ipython3",
   "version": "3.12.1"
  }
 },
 "nbformat": 4,
 "nbformat_minor": 4
}
