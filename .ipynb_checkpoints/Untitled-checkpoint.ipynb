{
 "cells": [
  {
   "cell_type": "code",
   "execution_count": 5,
   "id": "c144fba3-69fb-4399-8a7e-55730e942405",
   "metadata": {},
   "outputs": [
    {
     "name": "stdout",
     "output_type": "stream",
     "text": [
      "a\n",
      "b\n",
      "c\n",
      "d\n",
      "a\n",
      "b\n",
      "c\n"
     ]
    }
   ],
   "source": [
    "# Exercise: Circle\n",
    "# Define a class, Circle, that takes two arguments when we create it:\n",
    "# A sequence (string, list, tuple) of data\n",
    "# maxtimes, the maximum number of results we want to see\n",
    "# If we iterate over an instance of Circle, then we will get maxtimes results.\n",
    "# If, in iterating, we end up at the end of the data, then we circle back to the beginning, and restart from there.\n",
    "# Example:\n",
    "\n",
    "# c = Circle('abcd', 7)\n",
    "\n",
    "# for one_item in c:\n",
    "#     print(one_item)   # a b c d a b c\n",
    "\n",
    "class Circle:\n",
    "    def __init__(self, data, maxtimes):\n",
    "        self.data = data\n",
    "        self.maxtimes = maxtimes\n",
    "        self.index = 0\n",
    "\n",
    "    def __iter__(self):\n",
    "        return self\n",
    "\n",
    "    def __next__(self):\n",
    "        if self.index >= self.maxtimes:\n",
    "            raise StopIteration\n",
    "            \n",
    "        value = self.data[self.index % len(self.data)]   # get the data\n",
    "        self.index += 1                 # increment the index\n",
    "        return value\n",
    "\n",
    "c = Circle('abcd', 7)\n",
    "\n",
    "for one_item in c:\n",
    "    print(one_item)   # a b c d a b c\n"
   ]
  },
  {
   "cell_type": "code",
   "execution_count": 4,
   "id": "09b23538-f784-4c3a-8dec-a1f244385b13",
   "metadata": {},
   "outputs": [
    {
     "ename": "NameError",
     "evalue": "name 's' is not defined",
     "output_type": "error",
     "traceback": [
      "\u001b[0;31m---------------------------------------------------------------------------\u001b[0m",
      "\u001b[0;31mNameError\u001b[0m                                 Traceback (most recent call last)",
      "Cell \u001b[0;32mIn[4], line 57\u001b[0m\n\u001b[1;32m     53\u001b[0m         \u001b[38;5;28;01mreturn\u001b[39;00m \u001b[38;5;28mself\u001b[39m\u001b[38;5;241m.\u001b[39mstrategy\u001b[38;5;241m.\u001b[39mcheck(\u001b[38;5;28mself\u001b[39m\u001b[38;5;241m.\u001b[39ms)\n\u001b[1;32m     56\u001b[0m c \u001b[38;5;241m=\u001b[39m Checker(\u001b[38;5;124m'\u001b[39m\u001b[38;5;124mabcd\u001b[39m\u001b[38;5;124m'\u001b[39m, LenChecker())\n\u001b[0;32m---> 57\u001b[0m \u001b[38;5;28mprint\u001b[39m(c\u001b[38;5;241m.\u001b[39mcheck(\u001b[43ms\u001b[49m))\n\u001b[1;32m     59\u001b[0m \u001b[38;5;66;03m# c.strategy = MD5Checker()\u001b[39;00m\n\u001b[1;32m     60\u001b[0m \u001b[38;5;66;03m# print(c.check(s))\u001b[39;00m\n\u001b[1;32m     62\u001b[0m c\u001b[38;5;241m.\u001b[39mstrategy \u001b[38;5;241m=\u001b[39m Sha1Checker()\n",
      "\u001b[0;31mNameError\u001b[0m: name 's' is not defined"
     ]
    }
   ],
   "source": [
    "# Exercise: Text-integrity checking\n",
    "# Let's say that you have a file containing text, and you want to make sure that it hasn't changed since you last checked it. We can use three different algorithms to check the integrity:\n",
    "\n",
    "# LenChecker, which returns the length of the file in charcters, as an integer\n",
    "# Sha1Checker, which uses the SHA1 calculation of the file's contents. We'll use the hexdigest output from hashlib.sha1 in the Python standard library.\n",
    "# MD5Checker, which does the same thing as SHA1, but using hexdigest from hashlib.md5.\n",
    "# Create an overal Checker class with a strategy attribute, indicating which you want to run.\n",
    "\n",
    "# For SHA1 and MD5, take a string, run encode on that string to get a bytestring, and then pass the result to hashdigest to get the string you need.\n",
    "\n",
    "# You should be able to then say:\n",
    "\n",
    "# c = Checker(LenChecker())\n",
    "# print(c.check(s))\n",
    "\n",
    "# c.strategy = MD5Checker()\n",
    "# print(c.check(s))\n",
    "\n",
    "# c.strategy = Sha1Checker()\n",
    "# print(c.check(s))\n",
    "\n",
    "# import hashlib\n",
    "# >>> hash_object = hashlib.sha1(b'HelWorld')\n",
    "# >>> pbHash = hash_object.hexdigest()\n",
    "# >>> length = len(pbHash.decode(\"hex\"))\n",
    "\n",
    "import hashlib\n",
    "\n",
    "\n",
    "class LenChecker:\n",
    "    def check(self, data):\n",
    "        print('Getting length with UseLen')\n",
    "        return len(data)\n",
    "\n",
    "class MD5Checker:\n",
    "    def check(self, data):\n",
    "        print('Getting length with MD5Checker')\n",
    "        hash_object = hashlib.md5(b'data')\n",
    "        pbHash = hash_object.hexdigest()\n",
    "        return len(pbHash.decode(\"hex\"))\n",
    "\n",
    "class Sha1Checker:\n",
    "    def check(self, data):\n",
    "        print('Getting length with Sha1Checker')\n",
    "        hash_object = hashlib.sha1(b'data')\n",
    "        pbHash = hash_object.hexdigest()\n",
    "        return len(pbHash.decode(\"hex\"))\n",
    "\n",
    "class Checker:\n",
    "    def __init__(self, s, strategy):\n",
    "        self.s = s  # this is our string\n",
    "        self.strategy = strategy\n",
    "\n",
    "    def check(self):\n",
    "        return self.strategy.check(self.s)\n",
    "\n",
    "\n",
    "c = Checker('abcd', LenChecker())\n",
    "print(c.check(s))\n",
    "\n",
    "c.strategy = MD5Checker()\n",
    "print(c.check(s))\n",
    "\n",
    "c.strategy = Sha1Checker()\n",
    "print(c.check(s))"
   ]
  },
  {
   "cell_type": "code",
   "execution_count": null,
   "id": "7951ea90-dda6-47b1-ad86-79bb09a05003",
   "metadata": {},
   "outputs": [],
   "source": []
  }
 ],
 "metadata": {
  "kernelspec": {
   "display_name": "Python 3 (ipykernel)",
   "language": "python",
   "name": "python3"
  },
  "language_info": {
   "codemirror_mode": {
    "name": "ipython",
    "version": 3
   },
   "file_extension": ".py",
   "mimetype": "text/x-python",
   "name": "python",
   "nbconvert_exporter": "python",
   "pygments_lexer": "ipython3",
   "version": "3.12.3"
  }
 },
 "nbformat": 4,
 "nbformat_minor": 5
}
