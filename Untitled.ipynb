{
 "cells": [
  {
   "cell_type": "code",
   "execution_count": 5,
   "id": "c144fba3-69fb-4399-8a7e-55730e942405",
   "metadata": {},
   "outputs": [
    {
     "name": "stdout",
     "output_type": "stream",
     "text": [
      "a\n",
      "b\n",
      "c\n",
      "d\n",
      "a\n",
      "b\n",
      "c\n"
     ]
    }
   ],
   "source": [
    "# Exercise: Circle\n",
    "# Define a class, Circle, that takes two arguments when we create it:\n",
    "# A sequence (string, list, tuple) of data\n",
    "# maxtimes, the maximum number of results we want to see\n",
    "# If we iterate over an instance of Circle, then we will get maxtimes results.\n",
    "# If, in iterating, we end up at the end of the data, then we circle back to the beginning, and restart from there.\n",
    "# Example:\n",
    "\n",
    "# c = Circle('abcd', 7)\n",
    "\n",
    "# for one_item in c:\n",
    "#     print(one_item)   # a b c d a b c\n",
    "\n",
    "class Circle:\n",
    "    def __init__(self, data, maxtimes):\n",
    "        self.data = data\n",
    "        self.maxtimes = maxtimes\n",
    "        self.index = 0\n",
    "\n",
    "    def __iter__(self):\n",
    "        return self\n",
    "\n",
    "    def __next__(self):\n",
    "        if self.index >= self.maxtimes:\n",
    "            raise StopIteration\n",
    "            \n",
    "        value = self.data[self.index % len(self.data)]   # get the data\n",
    "        self.index += 1                 # increment the index\n",
    "        return value\n",
    "\n",
    "c = Circle('abcd', 7)\n",
    "\n",
    "for one_item in c:\n",
    "    print(one_item)   # a b c d a b c\n"
   ]
  },
  {
   "cell_type": "code",
   "execution_count": 12,
   "id": "09b23538-f784-4c3a-8dec-a1f244385b13",
   "metadata": {},
   "outputs": [
    {
     "name": "stdout",
     "output_type": "stream",
     "text": [
      "Returning value from MD5Checker\n"
     ]
    },
    {
     "data": {
      "text/plain": [
       "'ab56b4d92b40713acc5af89985d4b786'"
      ]
     },
     "execution_count": 12,
     "metadata": {},
     "output_type": "execute_result"
    }
   ],
   "source": [
    "# Exercise: Text-integrity checking\n",
    "# Let's say that you have a file containing text, and you want to make sure that it hasn't changed since you last checked it. We can use three different algorithms to check the integrity:\n",
    "\n",
    "# LenChecker, which returns the length of the file in charcters, as an integer\n",
    "# Sha1Checker, which uses the SHA1 calculation of the file's contents. We'll use the hexdigest output from hashlib.sha1 in the Python standard library.\n",
    "# MD5Checker, which does the same thing as SHA1, but using hexdigest from hashlib.md5.\n",
    "# Create an overal Checker class with a strategy attribute, indicating which you want to run.\n",
    "\n",
    "# For SHA1 and MD5, take a string, run encode on that string to get a bytestring, and then pass the result to hashdigest to get the string you need.\n",
    "\n",
    "# You should be able to then say:\n",
    "\n",
    "# c = Checker(LenChecker())\n",
    "# print(c.check(s))\n",
    "\n",
    "# c.strategy = MD5Checker()\n",
    "# print(c.check(s))\n",
    "\n",
    "# c.strategy = Sha1Checker()\n",
    "# print(c.check(s))\n",
    "\n",
    "# import hashlib\n",
    "# >>> hash_object = hashlib.sha1(b'HelWorld')\n",
    "# >>> pbHash = hash_object.hexdigest()\n",
    "# >>> length = len(pbHash.decode(\"hex\"))\n",
    "\n",
    "from hashlib import sha1, md5\n",
    "\n",
    "class LenChecker:\n",
    "    def check(self, data):\n",
    "        print(f'Returning value from LenChecker')\n",
    "        return len(data)\n",
    "\n",
    "class Sha1Checker:\n",
    "    def check(self, data):\n",
    "        print(f'Returning value from Sha1Checker')\n",
    "        return sha1(data.encode()).hexdigest()\n",
    "\n",
    "class MD5Checker:\n",
    "    def check(self, data):\n",
    "        print(f'Returning value from MD5Checker')\n",
    "        return md5(data.encode()).hexdigest()\n",
    "\n",
    "MD5Checker().check('abcde')\n",
    "\n",
    "# c = Checker('abcd', LenChecker())\n",
    "# print(c.check(s))\n",
    "\n",
    "# c.strategy = MD5Checker()\n",
    "# print(c.check(s))\n",
    "\n",
    "# c.strategy = Sha1Checker()\n",
    "# print(c.check(s))"
   ]
  },
  {
   "cell_type": "code",
   "execution_count": 9,
   "id": "7951ea90-dda6-47b1-ad86-79bb09a05003",
   "metadata": {},
   "outputs": [
    {
     "name": "stdout",
     "output_type": "stream",
     "text": [
      "Returning value from LenChecker\n",
      "6\n",
      "Returning value from MD5Checker\n",
      "fbd7809b1f99a5b790068736a1c62cf0\n",
      "Returning value from Sha1Checker\n",
      "16d8d7e58a216fe8e910b42840af38afcc6d7bfc\n",
      "Returning value from LenChecker\n",
      "6\n",
      "Returning value from MD5Checker\n",
      "fbd7809b1f99a5b790068736a1c62cf0\n",
      "Returning value from Sha1Checker\n",
      "16d8d7e58a216fe8e910b42840af38afcc6d7bfc\n"
     ]
    }
   ],
   "source": [
    "class Checker:\n",
    "    def __init__(self, strategy):\n",
    "        self.strategy = strategy\n",
    "\n",
    "    def check(self, data):\n",
    "        return self.strategy.check(data)\n",
    "class Checker:\n",
    "    def __init__(self, strategy):\n",
    "        self.strategy = strategy\n",
    "\n",
    "    def check(self, data):\n",
    "        return self.strategy.check(data)\n",
    "\n",
    "s = 'abcefg'\n",
    "c = Checker(LenChecker())\n",
    "print(c.check(s))\n",
    "\n",
    "c.strategy = MD5Checker()\n",
    "print(c.check(s))\n",
    "\n",
    "c.strategy = Sha1Checker()\n",
    "print(c.check(s))\n",
    "s = 'abcefg'\n",
    "c = Checker(LenChecker())\n",
    "print(c.check(s))\n",
    "\n",
    "c.strategy = MD5Checker()\n",
    "print(c.check(s))\n",
    "\n",
    "c.strategy = Sha1Checker()\n",
    "print(c.check(s))"
   ]
  },
  {
   "cell_type": "code",
   "execution_count": 4,
   "id": "efb9b10a-1b0c-4592-b5e8-04eda09d607d",
   "metadata": {},
   "outputs": [
    {
     "data": {
      "text/plain": [
       "'Bought 3 of apple, total of 3'"
      ]
     },
     "execution_count": 4,
     "metadata": {},
     "output_type": "execute_result"
    }
   ],
   "source": [
    "# # Exercise: Online store (with logging)\n",
    "# # Define a Store class, with two basic methods:\n",
    "# # add_product will add a new product to the store. This takes two arguments, name and price. Inside of the Store instance, you'll have a dict called products whose keys are product names and whose values are product prices.\n",
    "# # purchase method is passed a product name and a quantity. This returns a string indicating what the person bought, the quantity, and the total price.\n",
    "# # Define a PurchaseLog class, which writes all purchases to a file.\n",
    "# # Define a SuspiciousPurchaseLog class, which writes all purchases to a file above a certain threshold.\n",
    "# # When there is a purchase, notify all observers to our Store class. The notification should include the product name, price, and quantity. Depending on the threshold you set in SuspicousPurchaseClass, it should sometimes write. But PurchaseLog should always write.\n",
    "# # s = Store()\n",
    "# # s.add_product('apple', 1)\n",
    "# # s.add_product('banana', 2)\n",
    "# # s.add_product('cucumber', 3)\n",
    "\n",
    "# s.purchase('apple', 3)  # this should trigger one or both loggers to write to a file.\n",
    "\n",
    "class Store:\n",
    "    def __init__(self):\n",
    "        self.products = {}\n",
    "\n",
    "    def add_product(self, name, price):\n",
    "        self.products[name] = price\n",
    "\n",
    "    def purchase(self, name, quantity):\n",
    "        if name in self.products:\n",
    "            return f'Bought {quantity} of {name}, total of {quantity * self.products[name]}'\n",
    "        return f'No such product {name}'\n",
    "\n",
    "s = Store()\n",
    "s.add_product('apple', 1)\n",
    "s.add_product('banana', 2)\n",
    "s.add_product('cucumber', 3)\n",
    "\n",
    "s.purchase('apple', 3)"
   ]
  },
  {
   "cell_type": "code",
   "execution_count": null,
   "id": "ffd4241b-0bf6-4432-bfcd-ea715b97d4a4",
   "metadata": {},
   "outputs": [],
   "source": [
    "# Exercise: Prefix to postfix math adapter\n",
    "# Normally, we humans use \"infix\" notation for math:\n",
    "\n",
    "# 2 + 3 = 5\n",
    "# 5 * 3 = 15\n",
    "# The operator is \"inside\" of the operands.\n",
    "\n",
    "# There are other styles, too:\n",
    "\n",
    "# In prefix notation, the operator comes before the values. The Lisp programming language does this. This is also known as Polish notation.\n",
    "# + 2 3\n",
    "# * 5 3\n",
    "# In postfix notation, the operator comes after the values. HP calculators famously do this. This is known as Reverse Polish Notation, aka RPN.\n",
    "# 2 3 +\n",
    "# 5 3 *\n",
    "# I want you to:\n",
    "\n",
    "# Write a Calc class with a single method, calculate. It takes a string in the form of prefix notation, with whitespace between \n",
    "# the numbers and the operator. You can decide what operations to implement, but let's start with + and *.\n",
    "# Create a class called RPNCalc. It does the same thing, but with postfix notation.\n",
    "# Write some code that uses Calc\n",
    "# Write a new class, RPNAdapter, which takes an instance of RPNCalc as an argument. You can then call calculate on RPNAdapter, \n",
    "# passing it prefix notation. It will translate, and pass the translated string into RPNCalc, and then get a response.\n",
    "\n",
    "class Calc:\n",
    "    def calculate(self, s):\n",
    "        op, num1, num2 = s.split()  # break the string into a 3-element list, and use unpacking to assign to new variables\n",
    "        if op == '+':\n",
    "            return int(num1) + int(num2)\n",
    "        elif op == '*':\n",
    "            return int(num1) * int(num2)\n",
    "        else:\n",
    "            raise ValueError(f'Unknown operator {op}')\n",
    "\n",
    "c = Calc()\n",
    "c.calculate('* 2 8')"
   ]
  },
  {
   "cell_type": "code",
   "execution_count": null,
   "id": "0a45a76e-7065-48ca-a806-d159f4530c64",
   "metadata": {},
   "outputs": [],
   "source": [
    "class RPNCalc:\n",
    "    def calculate(self, s):\n",
    "        num1, num2, op = s.split() \n",
    "        if op == '+':\n",
    "            return int(num1) + int(num2)\n",
    "        elif op == '*':\n",
    "            return int(num1) * int(num2)\n",
    "        else:\n",
    "            raise ValueError(f'Unknown operator {op}')\n",
    "\n",
    "rc = RPNCalc()\n",
    "c.calculate('* 2 8')"
   ]
  },
  {
   "cell_type": "code",
   "execution_count": null,
   "id": "ea6cd543-d14b-43ca-8034-4cd25c2e8cd5",
   "metadata": {},
   "outputs": [],
   "source": [
    "# if I have software that uses Calc, but I now need to use RPNCalc, can I write an \n",
    "# adapter?\n",
    "\n",
    "class RPNAdapter:\n",
    "    def __init__(self, rpn):\n",
    "        self.rpn = rpn\n",
    "    def calculate(self, s):\n",
    "        op, num1, num2 = s.split()\n",
    "        return self.rpn.calculate(f'{num1} {num2} {op}')\n",
    "\n",
    "rpna = RPNAdapter(rc)\n",
    "rpna.calculate('+ 2 5')"
   ]
  },
  {
   "cell_type": "code",
   "execution_count": null,
   "id": "8d70c037-37fc-47b5-868d-2fbb32e11a25",
   "metadata": {},
   "outputs": [],
   "source": []
  }
 ],
 "metadata": {
  "kernelspec": {
   "display_name": "Python 3 (ipykernel)",
   "language": "python",
   "name": "python3"
  },
  "language_info": {
   "codemirror_mode": {
    "name": "ipython",
    "version": 3
   },
   "file_extension": ".py",
   "mimetype": "text/x-python",
   "name": "python",
   "nbconvert_exporter": "python",
   "pygments_lexer": "ipython3",
   "version": "3.12.3"
  }
 },
 "nbformat": 4,
 "nbformat_minor": 5
}
