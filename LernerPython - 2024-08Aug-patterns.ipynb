{
 "cells": [
  {
   "cell_type": "markdown",
   "metadata": {},
   "source": [
    "# Agenda\n",
    "\n",
    "1. What are design patterns, and who cares about them?\n",
    "2. A quick refresher on the important parts of Python objects\n",
    "3. Design patterns themselves\n",
    "    - Behavioral patterns (has to do with the object's behavior)\n",
    "    - Structural patterns (have to do with how objects interact with other objects)\n",
    "    - Creational patterns (have to do with how objects are created)"
   ]
  },
  {
   "cell_type": "markdown",
   "metadata": {},
   "source": [
    "# What are design patterns?\n",
    "\n",
    "Object-oriented programming has been around for many decades. In Python, everything is an object. This means that a lot of our time writing code is spent writing classes, methods, and working with attributes.\n",
    "\n",
    "The big problem that design patterns are trying to solve is: How do multiple objects in a system interact? Design patterns are all about how these interactions are structured. Design patterns give us a language that allows us to describe these different ways of interacting, and judge (and discuss) which way we can/should go in our software engineering."
   ]
  },
  {
   "cell_type": "markdown",
   "metadata": {},
   "source": [
    "# Objects in Python\n",
    "\n",
    "\"Everything is an object.\" What does that mean? It means that virtually everything we use in Python -- data, functions, classes -- is an object, which means that it follows the same rules as all other objects.  Once you learn the rules for objects in Python, you'll understand not only how your classes work, but also how other people's classes work, and how the builtin classes work, too.\n",
    "\n",
    "Every object in Python has three qualities:\n",
    "\n",
    "- An ID number, which you can get by calling `id` on it\n",
    "- A class, or type, which you can get by calling `type` on the object\n",
    "- One or more *attributes*, which are names that come after a `.`\n",
    "    - You can get the list of attributes with the `dir` builtin function\n",
    "    - Each attribute can contain either data or a function\n",
    " \n"
   ]
  },
  {
   "cell_type": "code",
   "execution_count": 1,
   "metadata": {},
   "outputs": [
    {
     "data": {
      "text/plain": [
       "4518333296"
      ]
     },
     "execution_count": 1,
     "metadata": {},
     "output_type": "execute_result"
    }
   ],
   "source": [
    "s = 'abcd'\n",
    "id(s)"
   ]
  },
  {
   "cell_type": "code",
   "execution_count": 2,
   "metadata": {},
   "outputs": [
    {
     "data": {
      "text/plain": [
       "['__add__',\n",
       " '__class__',\n",
       " '__contains__',\n",
       " '__delattr__',\n",
       " '__dir__',\n",
       " '__doc__',\n",
       " '__eq__',\n",
       " '__format__',\n",
       " '__ge__',\n",
       " '__getattribute__',\n",
       " '__getitem__',\n",
       " '__getnewargs__',\n",
       " '__getstate__',\n",
       " '__gt__',\n",
       " '__hash__',\n",
       " '__init__',\n",
       " '__init_subclass__',\n",
       " '__iter__',\n",
       " '__le__',\n",
       " '__len__',\n",
       " '__lt__',\n",
       " '__mod__',\n",
       " '__mul__',\n",
       " '__ne__',\n",
       " '__new__',\n",
       " '__reduce__',\n",
       " '__reduce_ex__',\n",
       " '__repr__',\n",
       " '__rmod__',\n",
       " '__rmul__',\n",
       " '__setattr__',\n",
       " '__sizeof__',\n",
       " '__str__',\n",
       " '__subclasshook__',\n",
       " 'capitalize',\n",
       " 'casefold',\n",
       " 'center',\n",
       " 'count',\n",
       " 'encode',\n",
       " 'endswith',\n",
       " 'expandtabs',\n",
       " 'find',\n",
       " 'format',\n",
       " 'format_map',\n",
       " 'index',\n",
       " 'isalnum',\n",
       " 'isalpha',\n",
       " 'isascii',\n",
       " 'isdecimal',\n",
       " 'isdigit',\n",
       " 'isidentifier',\n",
       " 'islower',\n",
       " 'isnumeric',\n",
       " 'isprintable',\n",
       " 'isspace',\n",
       " 'istitle',\n",
       " 'isupper',\n",
       " 'join',\n",
       " 'ljust',\n",
       " 'lower',\n",
       " 'lstrip',\n",
       " 'maketrans',\n",
       " 'partition',\n",
       " 'removeprefix',\n",
       " 'removesuffix',\n",
       " 'replace',\n",
       " 'rfind',\n",
       " 'rindex',\n",
       " 'rjust',\n",
       " 'rpartition',\n",
       " 'rsplit',\n",
       " 'rstrip',\n",
       " 'split',\n",
       " 'splitlines',\n",
       " 'startswith',\n",
       " 'strip',\n",
       " 'swapcase',\n",
       " 'title',\n",
       " 'translate',\n",
       " 'upper',\n",
       " 'zfill']"
      ]
     },
     "execution_count": 2,
     "metadata": {},
     "output_type": "execute_result"
    }
   ],
   "source": [
    "dir(s)   # give me all of the attributes for s"
   ]
  },
  {
   "cell_type": "code",
   "execution_count": 4,
   "metadata": {},
   "outputs": [
    {
     "data": {
      "text/plain": [
       "'ABCD'"
      ]
     },
     "execution_count": 4,
     "metadata": {},
     "output_type": "execute_result"
    }
   ],
   "source": [
    "s.upper()  # Python turns to s, and asks: Do you have an attribute upper? No.  Python turns to s's class, str, and asks. \n",
    "           # str *does* have an attribute \"upper\". We retrieve it, and then invoke it with ()"
   ]
  },
  {
   "cell_type": "code",
   "execution_count": 6,
   "metadata": {},
   "outputs": [
    {
     "data": {
      "text/plain": [
       "'ABCD'"
      ]
     },
     "execution_count": 6,
     "metadata": {},
     "output_type": "execute_result"
    }
   ],
   "source": [
    "# there's another way to invoke our method -- directly on the class\n",
    "str.upper(s)  # Python asks: does str have an attribute upper? Yes. We get that method, and pass it s, and invoke it"
   ]
  },
  {
   "cell_type": "code",
   "execution_count": 7,
   "metadata": {},
   "outputs": [
    {
     "name": "stdout",
     "output_type": "stream",
     "text": [
      "Hello, name1\n",
      "Hello, name2\n"
     ]
    }
   ],
   "source": [
    "# let's define a class!\n",
    "\n",
    "class Person:\n",
    "    def __init__(self, name):\n",
    "        self.name = name\n",
    "\n",
    "    def greet(self):\n",
    "        return f'Hello, {self.name}'\n",
    "\n",
    "p1 = Person('name1')\n",
    "p2 = Person('name2')\n",
    "\n",
    "print(p1.greet())  # Python asks p1: Do you have an attribute greet? No, so we check on Person. It has greet, which we retrieve and invoke.\n",
    "print(p2.greet())  # ditto"
   ]
  },
  {
   "cell_type": "markdown",
   "metadata": {},
   "source": [
    "# What's happening here?\n",
    "\n",
    "I defined a new class, a new data type in Python -- alongside `str`, `list`, `tuple`. I can create a new instance of `Person` by invoking it with `()`, and passing an argument -- a string, which will be the person's name.\n",
    "\n",
    "When we invoke `Person`, many people believe that `__init__` is invoked, because `__init__` is the constructor method, creating a new instance of `Person`.\n",
    "\n",
    "This is **WRONG**.\n",
    "\n",
    "- When you invoke `Person`, you actually end up invoking `__new__`, a method that you should never redefine. This is the actual constructor, which creates a new object.\n",
    "- `__new__`, in turn, invokes `__init__`, whose job is to assign new attributes to the new object.\n",
    "\n",
    "How does `__new__` pass the new object to `__init__`? As an argument to the method, which `__init__` receives as `self`.\n",
    "\n",
    "`__init__` doesn't need to return anything, because the assumption is that you're just going to assign attributes there.\n",
    "\n"
   ]
  },
  {
   "cell_type": "markdown",
   "metadata": {},
   "source": [
    "# Object relationships\n",
    "\n",
    "In the object-oriented programming world, we have (generally speaking) two relationships:\n",
    "\n",
    "- `is-a` -- one class *inherits* from the other; this is inheritance. If I have an `Employee` class that inherits from `Person`, we could say that `Employee` is-a `Person`. This means that anything a `Person` can do, an `Employee` can do, too. The point of inheritance is to encourage reuse of existing classes, and only write completely new ones if you're doing something totally new and different.\n",
    "- `has-a` -- one object belongs to another. This is a perfect description of an attribute! When we set attributes in `__init__`, we are taking advantage of this relationship, known more formally as \"composition.\" This doesn't get enough attention in the programming world; composition of objects is something we do all the time."
   ]
  },
  {
   "cell_type": "markdown",
   "metadata": {},
   "source": [
    "# Iterator pattern\n",
    "\n",
    "We know that in Python, we can iterate over a wide variety of objects.\n",
    "\n"
   ]
  },
  {
   "cell_type": "code",
   "execution_count": 8,
   "metadata": {},
   "outputs": [
    {
     "name": "stdout",
     "output_type": "stream",
     "text": [
      "a\n",
      "b\n",
      "c\n",
      "d\n"
     ]
    }
   ],
   "source": [
    "s = 'abcd'\n",
    "\n",
    "for one_character in s:\n",
    "    print(one_character)"
   ]
  },
  {
   "cell_type": "markdown",
   "metadata": {},
   "source": [
    "# Here's how iteration works in Python\n",
    "\n",
    "1. The `for` loop turns to the object at the end of the line, and asks: Are you iterable? It asks using the `iter` function, which invokes the `__iter__` method on the object.\n",
    "    - If the answer is \"no,\" the program exits with an exception\n",
    "2. The `for` loop says: If you're iterable, then give me your next value. It does this by invoking the `next` function, which invokes the `__next__` method on the object.\n",
    "    - If there are no values, then the program raises `StopIteration`\n",
    "3. The `for` loop assigns the new value to the loop variable\n",
    "4. The `for` loop executes the loop body\n",
    "5. When we're done with the loop body, we go back to step 2.\n",
    "\n",
    "This protocol allows many, *many* objects to be iterable in Python. They just need to (a) answer the two questions and (b) raise `StopIteration` when we're done."
   ]
  },
  {
   "cell_type": "code",
   "execution_count": 9,
   "metadata": {},
   "outputs": [],
   "source": [
    "s = 'abcd'\n",
    "\n",
    "i = iter(s)  # get the iterator for s -- returned by str.__iter__()"
   ]
  },
  {
   "cell_type": "code",
   "execution_count": 10,
   "metadata": {},
   "outputs": [
    {
     "data": {
      "text/plain": [
       "'a'"
      ]
     },
     "execution_count": 10,
     "metadata": {},
     "output_type": "execute_result"
    }
   ],
   "source": [
    "next(i)   # this invokes i.__next__()"
   ]
  },
  {
   "cell_type": "code",
   "execution_count": 11,
   "metadata": {},
   "outputs": [
    {
     "data": {
      "text/plain": [
       "'b'"
      ]
     },
     "execution_count": 11,
     "metadata": {},
     "output_type": "execute_result"
    }
   ],
   "source": [
    "next(i)"
   ]
  },
  {
   "cell_type": "code",
   "execution_count": 12,
   "metadata": {},
   "outputs": [
    {
     "data": {
      "text/plain": [
       "'c'"
      ]
     },
     "execution_count": 12,
     "metadata": {},
     "output_type": "execute_result"
    }
   ],
   "source": [
    "next(i)"
   ]
  },
  {
   "cell_type": "code",
   "execution_count": 13,
   "metadata": {},
   "outputs": [
    {
     "data": {
      "text/plain": [
       "'d'"
      ]
     },
     "execution_count": 13,
     "metadata": {},
     "output_type": "execute_result"
    }
   ],
   "source": [
    "next(i)"
   ]
  },
  {
   "cell_type": "code",
   "execution_count": 14,
   "metadata": {},
   "outputs": [
    {
     "ename": "StopIteration",
     "evalue": "",
     "output_type": "error",
     "traceback": [
      "\u001b[0;31m---------------------------------------------------------------------------\u001b[0m",
      "\u001b[0;31mStopIteration\u001b[0m                             Traceback (most recent call last)",
      "Cell \u001b[0;32mIn[14], line 1\u001b[0m\n\u001b[0;32m----> 1\u001b[0m \u001b[38;5;28;43mnext\u001b[39;49m\u001b[43m(\u001b[49m\u001b[43mi\u001b[49m\u001b[43m)\u001b[49m\n",
      "\u001b[0;31mStopIteration\u001b[0m: "
     ]
    }
   ],
   "source": [
    "next(i)"
   ]
  },
  {
   "cell_type": "code",
   "execution_count": 16,
   "metadata": {},
   "outputs": [
    {
     "name": "stdout",
     "output_type": "stream",
     "text": [
      "\tNow in MyIter.__init__ with data='abcd'\n",
      "\tNow in MyIter.__iter__ with self.data='abcd' and self.index=0\n",
      "\tNow in MyIter.__next__ with self.data='abcd' and self.index=0\n",
      "\tReturning value='a'\n",
      "a\n",
      "\tNow in MyIter.__next__ with self.data='abcd' and self.index=1\n",
      "\tReturning value='b'\n",
      "b\n",
      "\tNow in MyIter.__next__ with self.data='abcd' and self.index=2\n",
      "\tReturning value='c'\n",
      "c\n",
      "\tNow in MyIter.__next__ with self.data='abcd' and self.index=3\n",
      "\tReturning value='d'\n",
      "d\n",
      "\tNow in MyIter.__next__ with self.data='abcd' and self.index=4\n",
      "\tRaising StopIteration\n"
     ]
    }
   ],
   "source": [
    "# let's create an iterable class\n",
    "\n",
    "class MyIter:\n",
    "    def __init__(self, data):    # invoked when we create a new instance of MyIter\n",
    "        print(f'\\tNow in MyIter.__init__ with {data=}')\n",
    "        self.data = data\n",
    "        self.index = 0    # keep track of the index\n",
    "\n",
    "    def __iter__(self):  # invoked when a `for` loop initially asks, are you iterable?\n",
    "        print(f'\\tNow in MyIter.__iter__ with {self.data=} and {self.index=}')\n",
    "        return self      # I'm my own iterator\n",
    "\n",
    "    def __next__(self):   # invoked once per each iteration, until we're done\n",
    "        print(f'\\tNow in MyIter.__next__ with {self.data=} and {self.index=}')\n",
    "        if self.index >= len(self.data):\n",
    "            print(f'\\tRaising StopIteration')\n",
    "            raise StopIteration\n",
    "\n",
    "        value = self.data[self.index]   # get the data\n",
    "        self.index += 1                 # increment the index\n",
    "        print(f'\\tReturning {value=}')\n",
    "        return value\n",
    "\n",
    "m = MyIter('abcd')\n",
    "for one_item in m:\n",
    "    print(one_item)"
   ]
  },
  {
   "cell_type": "markdown",
   "metadata": {},
   "source": [
    "# Exercise: Circle\n",
    "\n",
    "1. Define a class, `Circle`, that takes two arguments when we create it:\n",
    "    - A sequence (string, list, tuple) of data\n",
    "    - `maxtimes`, the maximum number of results we want to see\n",
    "2. If we iterate over an instance of `Circle`, then we will get `maxtimes` results.\n",
    "3. If, in iterating, we end up at the end of the data, then we circle back to the beginning, and restart from there.\n",
    "\n",
    "Example:\n",
    "\n",
    "```python\n",
    "c = Circle('abcd', 7)\n",
    "\n",
    "for one_item in c:\n",
    "    print(one_item)   # a b c d a b c\n",
    "```"
   ]
  },
  {
   "cell_type": "code",
   "execution_count": 20,
   "metadata": {},
   "outputs": [
    {
     "name": "stdout",
     "output_type": "stream",
     "text": [
      "a\n",
      "b\n",
      "c\n",
      "d\n",
      "a\n",
      "b\n",
      "c\n"
     ]
    }
   ],
   "source": [
    "class Circle:\n",
    "    def __init__(self, data, maxtimes):\n",
    "        self.data = data\n",
    "        self.maxtimes = maxtimes\n",
    "        self.index = 0\n",
    "\n",
    "    def __iter__(self):\n",
    "        return self     # the object is its own iterator\n",
    "\n",
    "    def __next__(self):\n",
    "        if self.index >= self.maxtimes:\n",
    "            raise StopIteration\n",
    "\n",
    "        value = self.data[self.index % len(self.data)]\n",
    "        self.index += 1\n",
    "        return value\n",
    "\n",
    "c = Circle('abcd', 7)\n",
    "\n",
    "for one_item in c:\n",
    "    print(one_item)   # a b c d a b c\n"
   ]
  },
  {
   "cell_type": "code",
   "execution_count": 21,
   "metadata": {},
   "outputs": [
    {
     "name": "stdout",
     "output_type": "stream",
     "text": [
      "*** First round **\n",
      "a\n",
      "b\n",
      "c\n",
      "d\n",
      "a\n",
      "b\n",
      "c\n",
      "*** Second round **\n"
     ]
    }
   ],
   "source": [
    "# let's try it a bit more\n",
    "\n",
    "c = Circle('abcd', 7)\n",
    "\n",
    "print('*** First round **')\n",
    "for one_item in c:\n",
    "    print(one_item)   \n",
    "\n",
    "print('*** Second round **')\n",
    "for one_item in c:\n",
    "    print(one_item)   \n"
   ]
  },
  {
   "cell_type": "markdown",
   "metadata": {},
   "source": [
    "One standard way to solve this problem is to use a *second* class. The first (main) will implement `__iter__`, and return an instance of the second class. The second one will keep track of the index, etc.\n",
    "\n",
    "This means that every time a `for` loop invokes `iter` on our object, we get a new iterator object back, whose state (and index) is separate."
   ]
  },
  {
   "cell_type": "code",
   "execution_count": 22,
   "metadata": {},
   "outputs": [
    {
     "name": "stdout",
     "output_type": "stream",
     "text": [
      "*** First round **\n",
      "a\n",
      "b\n",
      "c\n",
      "d\n",
      "a\n",
      "b\n",
      "c\n",
      "*** Second round **\n",
      "a\n",
      "b\n",
      "c\n",
      "d\n",
      "a\n",
      "b\n",
      "c\n"
     ]
    }
   ],
   "source": [
    "class CircleIterator:\n",
    "    def __init__(self, data, maxtimes):\n",
    "        self.data = data\n",
    "        self.maxtimes = maxtimes\n",
    "        self.index = 0\n",
    "\n",
    "    def __next__(self):\n",
    "        if self.index >= self.maxtimes:\n",
    "            raise StopIteration\n",
    "\n",
    "        value = self.data[self.index % len(self.data)]\n",
    "        self.index += 1\n",
    "        return value\n",
    "\n",
    "class Circle:\n",
    "    def __init__(self, data, maxtimes):\n",
    "        self.data = data\n",
    "        self.maxtimes = maxtimes\n",
    "\n",
    "    def __iter__(self):\n",
    "        return CircleIterator(self.data, self.maxtimes)\n",
    "\n",
    "\n",
    "c = Circle('abcd', 7)\n",
    "\n",
    "print('*** First round **')\n",
    "for one_item in c:\n",
    "    print(one_item)   \n",
    "\n",
    "print('*** Second round **')\n",
    "for one_item in c:\n",
    "    print(one_item)  "
   ]
  },
  {
   "cell_type": "code",
   "execution_count": 23,
   "metadata": {},
   "outputs": [
    {
     "data": {
      "text/plain": [
       "<str_ascii_iterator at 0x10d587fa0>"
      ]
     },
     "execution_count": 23,
     "metadata": {},
     "output_type": "execute_result"
    }
   ],
   "source": [
    "s = 'abcd'\n",
    "iter(s)"
   ]
  },
  {
   "cell_type": "code",
   "execution_count": 24,
   "metadata": {},
   "outputs": [
    {
     "data": {
      "text/plain": [
       "<list_iterator at 0x10d6b27a0>"
      ]
     },
     "execution_count": 24,
     "metadata": {},
     "output_type": "execute_result"
    }
   ],
   "source": [
    "mylist = [10, 20, 30]\n",
    "iter(mylist)"
   ]
  },
  {
   "cell_type": "markdown",
   "metadata": {},
   "source": [
    "# Strategy pattern\n",
    "\n",
    "Let's assume that we have several algorithms. Each of them is implemented in its own class. Each class uses the same API for accessing/invoking the algorithm. The key thing is: We want to choose which algorithm will be used at runtime.\n",
    "\n",
    "The Strategy pattern suggests that we do the following:\n",
    "\n",
    "1. The class that will invoke the algorithm has an attribute named `strategy`. This contains an instance of one algorithm class.\n",
    "2. We'll invoke a method on the strategy object. That's possible because all of the algorithms have the same API.\n",
    "3. We can assign a new, different algorithm at runtime by assigning a new, different value to the `strategy` attribute.\n",
    "\n"
   ]
  },
  {
   "cell_type": "code",
   "execution_count": 26,
   "metadata": {},
   "outputs": [
    {
     "name": "stdout",
     "output_type": "stream",
     "text": [
      "Getting length with UseLen\n"
     ]
    },
    {
     "data": {
      "text/plain": [
       "4"
      ]
     },
     "execution_count": 26,
     "metadata": {},
     "output_type": "execute_result"
    }
   ],
   "source": [
    "# I want to be able to count the number of characters in a string. Here are two classes that do that.\n",
    "\n",
    "class UseLen:\n",
    "    def get_length(self, data):\n",
    "        print('Getting length with UseLen')\n",
    "        return len(data)\n",
    "\n",
    "class UseFor:\n",
    "    def get_length(self, data):\n",
    "        print('Getting length with UseFor')\n",
    "        total = 0\n",
    "        for one_character in data:\n",
    "            total += 1\n",
    "        return total\n",
    "\n",
    "class MyString:\n",
    "    def __init__(self, s, strategy):\n",
    "        self.s = s  # this is our string\n",
    "        self.strategy = strategy\n",
    "\n",
    "    def get_length(self):\n",
    "        return self.strategy.get_length(self.s)\n",
    "\n",
    "m = MyString('abcd', UseLen())  \n",
    "m.get_length()"
   ]
  },
  {
   "cell_type": "code",
   "execution_count": 27,
   "metadata": {},
   "outputs": [
    {
     "name": "stdout",
     "output_type": "stream",
     "text": [
      "Getting length with UseFor\n"
     ]
    },
    {
     "data": {
      "text/plain": [
       "4"
      ]
     },
     "execution_count": 27,
     "metadata": {},
     "output_type": "execute_result"
    }
   ],
   "source": [
    "m = MyString('abcd', UseFor())  \n",
    "m.get_length()"
   ]
  },
  {
   "cell_type": "code",
   "execution_count": 28,
   "metadata": {},
   "outputs": [
    {
     "name": "stdout",
     "output_type": "stream",
     "text": [
      "Getting length with UseLen\n"
     ]
    },
    {
     "data": {
      "text/plain": [
       "4"
      ]
     },
     "execution_count": 28,
     "metadata": {},
     "output_type": "execute_result"
    }
   ],
   "source": [
    "# I can swap the strategy at runtime!\n",
    "m.strategy = UseLen()\n",
    "m.get_length()"
   ]
  },
  {
   "cell_type": "markdown",
   "metadata": {},
   "source": [
    "# Exercise: Text-integrity checking\n",
    "\n",
    "Let's say that you have a file containing text, and you want to make sure that it hasn't changed since you last checked it. We can use three different algorithms to check the integrity:\n",
    "\n",
    "- `LenChecker`, which returns the length of the file in charcters, as an integer\n",
    "- `Sha1Checker`, which uses the `SHA1` calculation of the file's contents. We'll use the `hexdigest` output from `hashlib.sha1` in the Python standard library.\n",
    "- `MD5Checker`, which does the same thing as `SHA1`, but using `hexdigest` from `hashlib.md5`.\n",
    "\n",
    "Create an overal `Checker` class with a `strategy` attribute, indicating which you want to run.\n",
    "\n",
    "For SHA1 and MD5, take a string, run encode on that string to get a bytestring, and then pass the result to `hashdigest` to get the string you need.\n",
    "\n",
    "You should be able to then say:\n",
    "\n",
    "```python\n",
    "c = Checker(LenChecker())\n",
    "print(c.check(s))\n",
    "\n",
    "c.strategy = MD5Checker()\n",
    "print(c.check(s))\n",
    "\n",
    "c.strategy = Sha1Checker()\n",
    "print(c.check(s))\n",
    "```"
   ]
  },
  {
   "cell_type": "code",
   "execution_count": 29,
   "metadata": {},
   "outputs": [
    {
     "name": "stdout",
     "output_type": "stream",
     "text": [
      "Returning value from MD5Checker\n"
     ]
    },
    {
     "data": {
      "text/plain": [
       "'ab56b4d92b40713acc5af89985d4b786'"
      ]
     },
     "execution_count": 29,
     "metadata": {},
     "output_type": "execute_result"
    }
   ],
   "source": [
    "from hashlib import sha1, md5\n",
    "\n",
    "class LenChecker:\n",
    "    def check(self, data):\n",
    "        print(f'Returning value from LenChecker')\n",
    "        return len(data)\n",
    "\n",
    "class Sha1Checker:\n",
    "    def check(self, data):\n",
    "        print(f'Returning value from Sha1Checker')\n",
    "        return sha1(data.encode()).hexdigest()\n",
    "\n",
    "class MD5Checker:\n",
    "    def check(self, data):\n",
    "        print(f'Returning value from MD5Checker')\n",
    "        return md5(data.encode()).hexdigest()\n",
    "\n",
    "MD5Checker().check('abcde')"
   ]
  },
  {
   "cell_type": "code",
   "execution_count": 30,
   "metadata": {},
   "outputs": [
    {
     "name": "stdout",
     "output_type": "stream",
     "text": [
      "Returning value from Sha1Checker\n"
     ]
    },
    {
     "data": {
      "text/plain": [
       "'03de6c570bfe24bfc328ccd7ca46b76eadaf4334'"
      ]
     },
     "execution_count": 30,
     "metadata": {},
     "output_type": "execute_result"
    }
   ],
   "source": [
    "Sha1Checker().check('abcde')"
   ]
  },
  {
   "cell_type": "code",
   "execution_count": 31,
   "metadata": {},
   "outputs": [
    {
     "name": "stdout",
     "output_type": "stream",
     "text": [
      "Returning value from LenChecker\n"
     ]
    },
    {
     "data": {
      "text/plain": [
       "5"
      ]
     },
     "execution_count": 31,
     "metadata": {},
     "output_type": "execute_result"
    }
   ],
   "source": [
    "LenChecker().check('abcde')"
   ]
  },
  {
   "cell_type": "code",
   "execution_count": 33,
   "metadata": {},
   "outputs": [
    {
     "name": "stdout",
     "output_type": "stream",
     "text": [
      "Returning value from LenChecker\n",
      "6\n",
      "Returning value from MD5Checker\n",
      "fbd7809b1f99a5b790068736a1c62cf0\n",
      "Returning value from Sha1Checker\n",
      "16d8d7e58a216fe8e910b42840af38afcc6d7bfc\n"
     ]
    }
   ],
   "source": [
    "class Checker:\n",
    "    def __init__(self, strategy):\n",
    "        self.strategy = strategy\n",
    "\n",
    "    def check(self, data):\n",
    "        return self.strategy.check(data)\n",
    "\n",
    "s = 'abcefg'\n",
    "c = Checker(LenChecker())\n",
    "print(c.check(s))\n",
    "\n",
    "c.strategy = MD5Checker()\n",
    "print(c.check(s))\n",
    "\n",
    "c.strategy = Sha1Checker()\n",
    "print(c.check(s))"
   ]
  },
  {
   "cell_type": "markdown",
   "metadata": {},
   "source": [
    "# Is this Pythonic?\n",
    "\n",
    "It works, but it assumes a few things that are weird in Python:\n",
    "\n",
    "- Our objects don't have any state\n",
    "- Why are we using classes?\n",
    "- Maybe we could just use functions instead?\n",
    "\n",
    "Everything in Python is an object, but that doesn't mean that everything needs to be implemented using classes."
   ]
  },
  {
   "cell_type": "code",
   "execution_count": 34,
   "metadata": {},
   "outputs": [
    {
     "data": {
      "text/plain": [
       "'16d8d7e58a216fe8e910b42840af38afcc6d7bfc'"
      ]
     },
     "execution_count": 34,
     "metadata": {},
     "output_type": "execute_result"
    }
   ],
   "source": [
    "# let's try to rewrite each of our checkers as a function\n",
    "\n",
    "def sha1_check(data):\n",
    "    return sha1(data.encode()).hexdigest()\n",
    "\n",
    "def md5_check(data):\n",
    "    return md5(data.encode()).hexdigest()\n",
    "\n",
    "sha1_check(s)"
   ]
  },
  {
   "cell_type": "code",
   "execution_count": 35,
   "metadata": {},
   "outputs": [
    {
     "data": {
      "text/plain": [
       "'fbd7809b1f99a5b790068736a1c62cf0'"
      ]
     },
     "execution_count": 35,
     "metadata": {},
     "output_type": "execute_result"
    }
   ],
   "source": [
    "md5_check(s)"
   ]
  },
  {
   "cell_type": "code",
   "execution_count": 36,
   "metadata": {},
   "outputs": [
    {
     "data": {
      "text/plain": [
       "6"
      ]
     },
     "execution_count": 36,
     "metadata": {},
     "output_type": "execute_result"
    }
   ],
   "source": [
    "# I could use a variable for the current strategy\n",
    "# because we can assign functions (which are objects) to variables\n",
    "\n",
    "current_strategy = len\n",
    "current_strategy(s)"
   ]
  },
  {
   "cell_type": "code",
   "execution_count": 37,
   "metadata": {},
   "outputs": [
    {
     "data": {
      "text/plain": [
       "'fbd7809b1f99a5b790068736a1c62cf0'"
      ]
     },
     "execution_count": 37,
     "metadata": {},
     "output_type": "execute_result"
    }
   ],
   "source": [
    "current_strategy = md5_check\n",
    "current_strategy(s)"
   ]
  },
  {
   "cell_type": "code",
   "execution_count": 38,
   "metadata": {},
   "outputs": [],
   "source": [
    "# we can do even better by using a dictionary!\n",
    "# this is known as a \"dispatch table\"\n",
    "\n",
    "checks = {'len': len,\n",
    "          'md5': md5_check,\n",
    "          'sha1': sha1_check}"
   ]
  },
  {
   "cell_type": "code",
   "execution_count": 39,
   "metadata": {},
   "outputs": [
    {
     "data": {
      "text/plain": [
       "6"
      ]
     },
     "execution_count": 39,
     "metadata": {},
     "output_type": "execute_result"
    }
   ],
   "source": [
    "checks['len'](s)   # go to the dict, retrieve the function we want via the key, and invoke it"
   ]
  },
  {
   "cell_type": "code",
   "execution_count": 40,
   "metadata": {},
   "outputs": [
    {
     "data": {
      "text/plain": [
       "'16d8d7e58a216fe8e910b42840af38afcc6d7bfc'"
      ]
     },
     "execution_count": 40,
     "metadata": {},
     "output_type": "execute_result"
    }
   ],
   "source": [
    "checks['sha1'](s)"
   ]
  },
  {
   "cell_type": "code",
   "execution_count": 41,
   "metadata": {},
   "outputs": [
    {
     "data": {
      "text/plain": [
       "'fbd7809b1f99a5b790068736a1c62cf0'"
      ]
     },
     "execution_count": 41,
     "metadata": {},
     "output_type": "execute_result"
    }
   ],
   "source": [
    "checks['md5'](s)"
   ]
  },
  {
   "cell_type": "markdown",
   "metadata": {},
   "source": [
    "# Next up\n",
    "\n",
    "- Observer pattern\n",
    "- Adapter pattern"
   ]
  }
 ],
 "metadata": {
  "kernelspec": {
   "display_name": "Python 3 (ipykernel)",
   "language": "python",
   "name": "python3"
  },
  "language_info": {
   "codemirror_mode": {
    "name": "ipython",
    "version": 3
   },
   "file_extension": ".py",
   "mimetype": "text/x-python",
   "name": "python",
   "nbconvert_exporter": "python",
   "pygments_lexer": "ipython3",
   "version": "3.12.1"
  }
 },
 "nbformat": 4,
 "nbformat_minor": 4
}
