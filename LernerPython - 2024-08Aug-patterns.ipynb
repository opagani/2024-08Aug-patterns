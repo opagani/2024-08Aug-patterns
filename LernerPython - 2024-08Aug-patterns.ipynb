{
 "cells": [
  {
   "cell_type": "markdown",
   "metadata": {},
   "source": [
    "# Agenda\n",
    "\n",
    "1. What are design patterns, and who cares about them?\n",
    "2. A quick refresher on the important parts of Python objects\n",
    "3. Design patterns themselves\n",
    "    - Behavioral patterns (has to do with the object's behavior)\n",
    "    - Structural patterns (have to do with how objects interact with other objects)\n",
    "    - Creational patterns (have to do with how objects are created)"
   ]
  },
  {
   "cell_type": "markdown",
   "metadata": {},
   "source": [
    "# What are design patterns?\n",
    "\n",
    "Object-oriented programming has been around for many decades. In Python, everything is an object. This means that a lot of our time writing code is spent writing classes, methods, and working with attributes.\n",
    "\n",
    "The big problem that design patterns are trying to solve is: How do multipl"
   ]
  }
 ],
 "metadata": {
  "kernelspec": {
   "display_name": "Python 3 (ipykernel)",
   "language": "python",
   "name": "python3"
  },
  "language_info": {
   "codemirror_mode": {
    "name": "ipython",
    "version": 3
   },
   "file_extension": ".py",
   "mimetype": "text/x-python",
   "name": "python",
   "nbconvert_exporter": "python",
   "pygments_lexer": "ipython3",
   "version": "3.12.1"
  }
 },
 "nbformat": 4,
 "nbformat_minor": 4
}
